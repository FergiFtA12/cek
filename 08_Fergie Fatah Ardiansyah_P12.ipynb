{
  "nbformat": 4,
  "nbformat_minor": 0,
  "metadata": {
    "colab": {
      "provenance": [],
      "authorship_tag": "ABX9TyPDKJ2LdEhZYAobyph81Jj3",
      "include_colab_link": true
    },
    "kernelspec": {
      "name": "python3",
      "display_name": "Python 3"
    },
    "language_info": {
      "name": "python"
    }
  },
  "cells": [
    {
      "cell_type": "markdown",
      "metadata": {
        "id": "view-in-github",
        "colab_type": "text"
      },
      "source": [
        "<a href=\"https://colab.research.google.com/github/FergiFtA12/cek/blob/main/08_Fergie%20Fatah%20Ardiansyah_P12.ipynb\" target=\"_parent\"><img src=\"https://colab.research.google.com/assets/colab-badge.svg\" alt=\"Open In Colab\"/></a>"
      ]
    },
    {
      "cell_type": "code",
      "execution_count": 12,
      "metadata": {
        "colab": {
          "base_uri": "https://localhost:8080/"
        },
        "id": "ADtlqHTLcFvE",
        "outputId": "2f9347e7-489e-4344-f274-cf99bea303c8"
      },
      "outputs": [
        {
          "output_type": "execute_result",
          "data": {
            "text/plain": [
              "{'outlook': 0.24674981977443955,\n",
              " 'temp': 0.029222565658955313,\n",
              " 'humidity': 0.15183550136234203,\n",
              " 'windy': 0.04812703040826993}"
            ]
          },
          "metadata": {},
          "execution_count": 12
        }
      ],
      "source": [
        "import numpy as np\n",
        "import pandas as pd\n",
        "eps = np.finfo(float).eps\n",
        "from numpy import log2 as log\n",
        "\n",
        "outlook = 'overcast,overcast,overcast,overcast,rainy,rainy,rainy,rainy,rainy,sunny,sunny,sunny,sunny,sunny'.split(',') \n",
        "temp = 'hot,cool,mild,hot,mild,cool,cool,mild,mild,hot,hot,mild,cool,mild'.split(',')\n",
        "humidity = 'high,normal,high,normal,high,normal,normal,normal,high,high,high,high,normal,normal'.split(',')\n",
        "windy = 'FALSE,TRUE,TRUE,FALSE,FALSE,FALSE,TRUE,FALSE,TRUE,FALSE,TRUE,FALSE,FALSE,TRUE'.split(',')\n",
        "play = 'yes,yes,yes,yes,yes,yes,no,yes,no,no,no,no,yes,yes'.split(',')\n",
        "\n",
        "dataset = {'outlook':outlook, 'temp':temp,'humidity':humidity,'windy':windy,'play':play}\n",
        "df = pd.DataFrame(dataset, columns=['outlook', 'temp','humidity','windy','play'])\n",
        "\n",
        "entropy_node = 0 #Initialize Entropy\n",
        "values = df.play.unique() #Unique objects - 'Yes', 'No' \n",
        "for value in values:\n",
        "  fraction = df.play.value_counts() [value]/len (df.play) \n",
        "  entropy_node += -fraction*np.log2(fraction)\n",
        "entropy_node\n",
        "\n",
        "def ent(df,attribute):\n",
        "  target_variables = df.play.unique() \n",
        "  variables = df[attribute].unique()\n",
        "\n",
        "  entropy_attribute = 0\n",
        "  for variable in variables:\n",
        "    entropy_each_feature = 0\n",
        "    for target_variable in target_variables:\n",
        "      num = len(df[attribute][df[attribute] ==variable][df.play ==target_variable])\n",
        "      den = len(df[attribute][df[attribute] ==variable])\n",
        "      fraction = num/(den+eps)\n",
        "      entropy_each_feature += -fraction*log(fraction+eps)\n",
        "    fraction2 =  den/len(df)\n",
        "    entropy_attribute += -fraction2*entropy_each_feature\n",
        "  return(abs(entropy_attribute))\n",
        "\n",
        "a_entropy = {k:ent(df,k) for k in df.keys()[:-1]}\n",
        "a_entropy\n",
        "\n",
        "def ig(e_dataset,e_attr):\n",
        "  return(e_dataset-e_attr)\n",
        "\n",
        "IG = {k:ig(entropy_node,a_entropy[k]) for k in a_entropy}\n",
        "IG"
      ]
    },
    {
      "cell_type": "code",
      "source": [
        "import numpy as np\n",
        "import pandas as pd\n",
        "eps = np.finfo(float).eps\n",
        "from numpy import log2 as log\n",
        "\n",
        "outlook = 'overcast,overcast,overcast,overcast,rainy,rainy,rainy,rainy,rainy,sunny,sunny,sunny,sunny,sunny'.split(',') \n",
        "temp = 'hot,cool,mild,hot,mild,cool,cool,mild,mild,hot,hot,mild,cool,mild'.split(',')\n",
        "humidity = 'high,normal,high,normal,high,normal,normal,normal,high,high,high,high,normal,normal'.split(',')\n",
        "windy = 'FALSE,TRUE,TRUE,FALSE,FALSE,FALSE,TRUE,FALSE,TRUE,FALSE,TRUE,FALSE,FALSE,TRUE'.split(',')\n",
        "play = 'yes,yes,yes,yes,yes,yes,no,yes,no,no,no,no,yes,yes'.split(',')\n",
        "\n",
        "dataset = {'outlook':outlook, 'temp':temp,'humidity':humidity,'windy':windy,'play':play}\n",
        "df = pd.DataFrame(dataset, columns=['outlook', 'temp','humidity','windy','play'])\n",
        "\n",
        "# Now to proceed our tree we will use recursion\n",
        "\n",
        "def find_entropy(df):\n",
        "    Class = df.keys()[-1]   #To make the code generic, changing target variable class name\n",
        "    entropy = 0\n",
        "    values = df[Class].unique()\n",
        "    for value in values:\n",
        "        fraction = df[Class].value_counts()[value]/len(df[Class])\n",
        "        entropy += -fraction*np.log2(fraction)\n",
        "    return entropy\n",
        "  \n",
        "  \n",
        "def find_entropy_attribute(df,attribute):\n",
        "  Class = df.keys()[-1]   #To make the code generic, changing target variable class name\n",
        "  target_variables = df[Class].unique()  #This gives all 'Yes' and 'No'\n",
        "  variables = df[attribute].unique()    #This gives different features in that attribute (like 'Hot','Cold' in Temperature)\n",
        "  entropy2 = 0\n",
        "  for variable in variables:\n",
        "      entropy = 0\n",
        "      for target_variable in target_variables:\n",
        "          num = len(df[attribute][df[attribute]==variable][df[Class] ==target_variable])\n",
        "          den = len(df[attribute][df[attribute]==variable])\n",
        "          fraction = num/(den+eps)\n",
        "          entropy += -fraction*log(fraction+eps)\n",
        "      fraction2 = den/len(df)\n",
        "      entropy2 += -fraction2*entropy\n",
        "  return abs(entropy2)\n",
        "\n",
        "\n",
        "def find_winner(df):\n",
        "    Entropy_att = []\n",
        "    IG = []\n",
        "    for key in df.keys()[:-1]:\n",
        "#         Entropy_att.append(find_entropy_attribute(df,key))\n",
        "        IG.append(find_entropy(df)-find_entropy_attribute(df,key))\n",
        "    return df.keys()[:-1][np.argmax(IG)]\n",
        "  \n",
        "  \n",
        "def get_subtable(df, node,value):\n",
        "  return df[df[node] == value].reset_index(drop=True)\n",
        "\n",
        "\n",
        "def buildTree(df,tree=None): \n",
        "    Class = df.keys()[-1]   #To make the code generic, changing target variable class name\n",
        "    \n",
        "    #Here we build our decision tree\n",
        "\n",
        "    #Get attribute with maximum information gain\n",
        "    node = find_winner(df)\n",
        "    \n",
        "    #Get distinct value of that attribute e.g Salary is node and Low,Med and High are values\n",
        "    attValue = np.unique(df[node])\n",
        "    \n",
        "    #Create an empty dictionary to create tree    \n",
        "    if tree is None:                    \n",
        "        tree={}\n",
        "        tree[node] = {}\n",
        "    \n",
        "   #We make loop to construct a tree by calling this function recursively. \n",
        "    #In this we check if the subset is pure and stops if it is pure. \n",
        "\n",
        "    for value in attValue:\n",
        "        \n",
        "        subtable = get_subtable(df,node,value)\n",
        "        clValue,counts = np.unique(subtable[Class],return_counts=True)                        \n",
        "        \n",
        "        if len(counts)==1:#Checking purity of subset\n",
        "            tree[node][value] = clValue[0]                                                    \n",
        "        else:        \n",
        "            tree[node][value] = buildTree(subtable) #Calling the function recursively \n",
        "                   \n",
        "    return tree\n",
        "\n",
        "    \n",
        "t = buildTree(df)\n",
        "import pprint\n",
        "pprint.pprint(t)"
      ],
      "metadata": {
        "colab": {
          "base_uri": "https://localhost:8080/"
        },
        "id": "c-kab4lEs9Yd",
        "outputId": "02bc068e-cfed-4c38-fb14-d0f7567f9396"
      },
      "execution_count": 16,
      "outputs": [
        {
          "output_type": "stream",
          "name": "stdout",
          "text": [
            "{'outlook': {'overcast': 'yes',\n",
            "             'rainy': {'windy': {'FALSE': 'yes', 'TRUE': 'no'}},\n",
            "             'sunny': {'humidity': {'high': 'no', 'normal': 'yes'}}}}\n"
          ]
        }
      ]
    },
    {
      "cell_type": "code",
      "source": [
        "pip install pprintpp\n"
      ],
      "metadata": {
        "colab": {
          "base_uri": "https://localhost:8080/",
          "height": 200
        },
        "id": "wa8rVeOprKXQ",
        "outputId": "c0ce7c5f-dabc-4a80-e2e9-5a52924ca190"
      },
      "execution_count": 15,
      "outputs": [
        {
          "output_type": "error",
          "ename": "NameError",
          "evalue": "ignored",
          "traceback": [
            "\u001b[0;31m---------------------------------------------------------------------------\u001b[0m",
            "\u001b[0;31mNameError\u001b[0m                                 Traceback (most recent call last)",
            "\u001b[0;32m<ipython-input-15-cc8d0ee6b5e3>\u001b[0m in \u001b[0;36m<module>\u001b[0;34m\u001b[0m\n\u001b[0;32m----> 1\u001b[0;31m \u001b[0mt\u001b[0m \u001b[0;34m=\u001b[0m \u001b[0mbuildTree\u001b[0m\u001b[0;34m(\u001b[0m\u001b[0mdf\u001b[0m\u001b[0;34m)\u001b[0m\u001b[0;34m\u001b[0m\u001b[0;34m\u001b[0m\u001b[0m\n\u001b[0m\u001b[1;32m      2\u001b[0m \u001b[0;32mimport\u001b[0m \u001b[0mpprint\u001b[0m\u001b[0;34m\u001b[0m\u001b[0;34m\u001b[0m\u001b[0m\n\u001b[1;32m      3\u001b[0m \u001b[0mpprint\u001b[0m\u001b[0;34m.\u001b[0m\u001b[0mpprint\u001b[0m\u001b[0;34m(\u001b[0m\u001b[0mt\u001b[0m\u001b[0;34m)\u001b[0m\u001b[0;34m\u001b[0m\u001b[0;34m\u001b[0m\u001b[0m\n",
            "\u001b[0;31mNameError\u001b[0m: name 'buildTree' is not defined"
          ]
        }
      ]
    },
    {
      "cell_type": "code",
      "source": [
        "entropy_node = 0 #Initialize Entropy\n",
        "values = df.play.unique() #Unique objects - 'Yes', 'No'\n",
        "for value in values:\n",
        "    fraction = df.play.value_counts()[value]/len(df.play)\n",
        "    entropy_node += -fraction*np.log2(fraction)\n",
        "entropy_node"
      ],
      "metadata": {
        "id": "zGNhwR91mLuf"
      },
      "execution_count": null,
      "outputs": []
    }
  ]
}